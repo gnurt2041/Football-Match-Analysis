{
  "cells": [
    {
      "cell_type": "markdown",
      "metadata": {
        "id": "view-in-github",
        "colab_type": "text"
      },
      "source": [
        "<a href=\"https://colab.research.google.com/github/gnurt2041/Football-Match-Analysis/blob/main/main.ipynb\" target=\"_parent\"><img src=\"https://colab.research.google.com/assets/colab-badge.svg\" alt=\"Open In Colab\"/></a>"
      ]
    },
    {
      "cell_type": "markdown",
      "source": [
        "# Track + analyze football matches through broadcast video using\n",
        "# YOLOv5 + ByteTrack + HSV Classifier"
      ],
      "metadata": {
        "id": "2QTkONVJ9s4h"
      }
    },
    {
      "cell_type": "markdown",
      "source": [
        "### Connect this colab notebook with Google Drive"
      ],
      "metadata": {
        "id": "NNxf5STp-k6i"
      }
    },
    {
      "cell_type": "code",
      "execution_count": 1,
      "metadata": {
        "colab": {
          "base_uri": "https://localhost:8080/"
        },
        "id": "glGBMO6tGE8O",
        "outputId": "d8f394f7-742d-4f66-bf3e-bbeedab64cfc"
      },
      "outputs": [
        {
          "output_type": "stream",
          "name": "stdout",
          "text": [
            "Mounted at /content/drive\n"
          ]
        }
      ],
      "source": [
        "from google.colab import drive\n",
        "drive.mount('/content/drive')"
      ]
    },
    {
      "cell_type": "markdown",
      "source": [
        "### Check GPU info"
      ],
      "metadata": {
        "id": "GlERqeOg-KBr"
      }
    },
    {
      "cell_type": "code",
      "execution_count": 2,
      "metadata": {
        "colab": {
          "base_uri": "https://localhost:8080/"
        },
        "id": "Qc_8J5rtG5Xe",
        "outputId": "26190ae6-522e-4e48-80e8-94ef1a48849a"
      },
      "outputs": [
        {
          "output_type": "stream",
          "name": "stdout",
          "text": [
            "Wed Jul  5 13:18:03 2023       \n",
            "+-----------------------------------------------------------------------------+\n",
            "| NVIDIA-SMI 525.85.12    Driver Version: 525.85.12    CUDA Version: 12.0     |\n",
            "|-------------------------------+----------------------+----------------------+\n",
            "| GPU  Name        Persistence-M| Bus-Id        Disp.A | Volatile Uncorr. ECC |\n",
            "| Fan  Temp  Perf  Pwr:Usage/Cap|         Memory-Usage | GPU-Util  Compute M. |\n",
            "|                               |                      |               MIG M. |\n",
            "|===============================+======================+======================|\n",
            "|   0  Tesla T4            Off  | 00000000:00:04.0 Off |                    0 |\n",
            "| N/A   57C    P8    11W /  70W |      0MiB / 15360MiB |      0%      Default |\n",
            "|                               |                      |                  N/A |\n",
            "+-------------------------------+----------------------+----------------------+\n",
            "                                                                               \n",
            "+-----------------------------------------------------------------------------+\n",
            "| Processes:                                                                  |\n",
            "|  GPU   GI   CI        PID   Type   Process name                  GPU Memory |\n",
            "|        ID   ID                                                   Usage      |\n",
            "|=============================================================================|\n",
            "|  No running processes found                                                 |\n",
            "+-----------------------------------------------------------------------------+\n"
          ]
        }
      ],
      "source": [
        "!nvidia-smi"
      ]
    },
    {
      "cell_type": "markdown",
      "source": [
        "Get root direction"
      ],
      "metadata": {
        "id": "nTWrEu6P-U_b"
      }
    },
    {
      "cell_type": "code",
      "execution_count": 3,
      "metadata": {
        "colab": {
          "base_uri": "https://localhost:8080/"
        },
        "id": "6foaIMkiG8CI",
        "outputId": "ac85d8f9-e52c-4f74-8ede-936805ed6063"
      },
      "outputs": [
        {
          "output_type": "stream",
          "name": "stdout",
          "text": [
            "/content\n"
          ]
        }
      ],
      "source": [
        "import os\n",
        "HOME = os.getcwd()\n",
        "print(HOME)"
      ]
    },
    {
      "cell_type": "markdown",
      "source": [
        "### Clone the yolov5 github from ultralytics into your drive"
      ],
      "metadata": {
        "id": "qUHagISE-bu_"
      }
    },
    {
      "cell_type": "code",
      "source": [
        "%cd {HOME}/drive/MyDrive/\n",
        "!rm -rf yolov5\n",
        "!git clone https://github.com/ultralytics/yolov5"
      ],
      "metadata": {
        "id": "YXMxl-or8u_i",
        "colab": {
          "base_uri": "https://localhost:8080/"
        },
        "outputId": "8ae31d4e-224f-408d-af6e-1b6e10aad29b"
      },
      "execution_count": 5,
      "outputs": [
        {
          "output_type": "stream",
          "name": "stdout",
          "text": [
            "/content/drive/MyDrive\n",
            "Cloning into 'yolov5'...\n",
            "remote: Enumerating objects: 15807, done.\u001b[K\n",
            "remote: Counting objects: 100% (38/38), done.\u001b[K\n",
            "remote: Compressing objects: 100% (36/36), done.\u001b[K\n",
            "remote: Total 15807 (delta 7), reused 22 (delta 2), pack-reused 15769\u001b[K\n",
            "Receiving objects: 100% (15807/15807), 14.58 MiB | 15.05 MiB/s, done.\n",
            "Resolving deltas: 100% (10821/10821), done.\n"
          ]
        }
      ]
    },
    {
      "cell_type": "markdown",
      "source": [
        "Install requirements packages to run yolov5"
      ],
      "metadata": {
        "id": "2Ckm9wAs_YMO"
      }
    },
    {
      "cell_type": "code",
      "execution_count": 6,
      "metadata": {
        "colab": {
          "base_uri": "https://localhost:8080/"
        },
        "id": "PKMcZ3jrG-GZ",
        "outputId": "ac84ec10-5762-4cdf-9634-3663978d90f7"
      },
      "outputs": [
        {
          "output_type": "stream",
          "name": "stderr",
          "text": [
            "YOLOv5 🚀 v7.0-192-g459dd49 Python-3.10.12 torch-2.0.1+cu118 CUDA:0 (Tesla T4, 15102MiB)\n"
          ]
        },
        {
          "output_type": "stream",
          "name": "stdout",
          "text": [
            "Setup complete ✅ (2 CPUs, 12.7 GB RAM, 24.2/78.2 GB disk)\n"
          ]
        }
      ],
      "source": [
        "%cd {HOME}/drive/MyDrive/yolov5\n",
        "!pip install -qr requirements.txt\n",
        "\n",
        "import utils\n",
        "display = utils.notebook_init()"
      ]
    },
    {
      "cell_type": "markdown",
      "source": [
        "### Clone ByteTrack github for tracking task"
      ],
      "metadata": {
        "id": "W26U8f0VCG2A"
      }
    },
    {
      "cell_type": "code",
      "execution_count": 7,
      "metadata": {
        "id": "3Voa-IX_HHsn",
        "colab": {
          "base_uri": "https://localhost:8080/"
        },
        "outputId": "a13574a6-cee4-4ee6-824c-915329e91df3"
      },
      "outputs": [
        {
          "output_type": "stream",
          "name": "stdout",
          "text": [
            "/content/drive/MyDrive\n",
            "fatal: destination path 'ByteTrack' already exists and is not an empty directory.\n"
          ]
        }
      ],
      "source": [
        "%cd {HOME}/drive/MyDrive/\n",
        "!git clone https://github.com/ifzhang/ByteTrack.git"
      ]
    },
    {
      "cell_type": "markdown",
      "source": [
        "Install requirement packages for ByteTrack\n",
        "\n",
        "Some other packages are for requirement package."
      ],
      "metadata": {
        "id": "_h7KMLy-CZZK"
      }
    },
    {
      "cell_type": "code",
      "source": [
        "%cd {HOME}/drive/MyDrive/ByteTrack\n",
        "\n",
        "# !sed -i 's/onnx==1.8.1/onnx==1.9.0/g' requirements.txt\n",
        "!pip3 install -q -r requirements.txt\n",
        "!python3 setup.py -q develop\n",
        "!pip install -q cython_bbox\n",
        "!pip install -q onemetric\n",
        "!pip install -q loguru lap\n",
        "!pip install onemetric --quiet\n",
        "from IPython import display\n",
        "display.clear_output()"
      ],
      "metadata": {
        "id": "7cNAQk0JCQJ-"
      },
      "execution_count": 8,
      "outputs": []
    },
    {
      "cell_type": "markdown",
      "source": [
        "### Clone my github to run analysis and annotations"
      ],
      "metadata": {
        "id": "CYqQl634J8tF"
      }
    },
    {
      "cell_type": "code",
      "source": [
        "%cd {HOME}/drive/MyDrive\n",
        "!rm -rf Football-Match-Analysis\n",
        "!git clone https://github.com/gnurt2041/Football-Match-Analysis.git"
      ],
      "metadata": {
        "colab": {
          "base_uri": "https://localhost:8080/"
        },
        "id": "oNUOIYSeKIVd",
        "outputId": "8cb27cba-e278-4757-f308-3e439b6d086e"
      },
      "execution_count": 9,
      "outputs": [
        {
          "output_type": "stream",
          "name": "stdout",
          "text": [
            "/content/drive/MyDrive\n",
            "Cloning into 'Football-Match-Analysis'...\n",
            "remote: Enumerating objects: 497, done.\u001b[K\n",
            "remote: Counting objects: 100% (95/95), done.\u001b[K\n",
            "remote: Compressing objects: 100% (78/78), done.\u001b[K\n",
            "remote: Total 497 (delta 57), reused 17 (delta 17), pack-reused 402\u001b[K\n",
            "Receiving objects: 100% (497/497), 1.87 MiB | 11.48 MiB/s, done.\n",
            "Resolving deltas: 100% (261/261), done.\n"
          ]
        }
      ]
    },
    {
      "cell_type": "markdown",
      "source": [
        "### Arguments for run\n",
        "In google colab you can't use arguments from module, so you have to write and run it in code cell"
      ],
      "metadata": {
        "id": "n2_knzjsCzJQ"
      }
    },
    {
      "cell_type": "code",
      "execution_count": 10,
      "metadata": {
        "id": "DtG0-6exHebw",
        "colab": {
          "base_uri": "https://localhost:8080/"
        },
        "outputId": "ec589af6-374f-4a1c-c706-34916fb85b32"
      },
      "outputs": [
        {
          "output_type": "stream",
          "name": "stdout",
          "text": [
            "Namespace(source='./test.mp4', model='/model.pt', possession=True, possession_threshold=15, ball_conf=0.4, teams_name=['MUN', 'SEV'], color_home=['red', 'blue', 'sky_blue', 'blueish_red'], color_away=['white', 'yellow'], color_referee='black', colors_draw=['blue', 'salmon', 'yellow'], board_colors=['', ''], text_colors=['', ''])\n"
          ]
        }
      ],
      "source": [
        "import argparse\n",
        "parser = argparse.ArgumentParser()\n",
        "parser.add_argument(\n",
        "    \"--source\",\n",
        "    default=\"./test.mp4\",\n",
        "    type=str,\n",
        "    help=\"Path to the input \"\n",
        ")\n",
        "parser.add_argument(\n",
        "    \"--model\", default=\"/model.pt\", type=str, help=\"Path to the model\"\n",
        ")\n",
        "parser.add_argument(\n",
        "    \"--possession\",\n",
        "    action=\"store_false\",\n",
        "    help=\"Enable possession counter\"\n",
        ")\n",
        "parser.add_argument(\n",
        "    \"--possession_threshold\",\n",
        "    type=int,\n",
        "    default=15,\n",
        "    help=\"Amount of consecutive frames new team has to have the ball in order to change possession\"\n",
        ")\n",
        "parser.add_argument(\n",
        "    \"--ball_conf\",\n",
        "    type=float,\n",
        "    default=0.4,\n",
        "    help=\"Ball confidence threshold\"\n",
        ")\n",
        "parser.add_argument(\n",
        "    \"--teams_name\",\n",
        "    nargs='+',\n",
        "    type=str,\n",
        "    default=['MUN','SEV'],\n",
        "    help=\"Name of two teams\"\n",
        ")\n",
        "parser.add_argument(\n",
        "    \"--color_home\",\n",
        "    nargs='+',\n",
        "    type=str,\n",
        "    default=['red','blue','sky_blue','blueish_red'],\n",
        "    help=\"Color of home team\"\n",
        ")\n",
        "parser.add_argument(\n",
        "    \"--color_away\",\n",
        "    nargs='+',\n",
        "    type=str,\n",
        "    default=['white','yellow'],\n",
        "    help=\"Color of away team\"\n",
        ")\n",
        "parser.add_argument(\n",
        "    \"--color_referee\",\n",
        "    type=str,\n",
        "    default='black',\n",
        "    help=\"Color of referee\"\n",
        ")\n",
        "parser.add_argument(\n",
        "    \"--colors_draw\",\n",
        "    nargs='+',\n",
        "    type=str,\n",
        "    default=['blue','salmon','yellow'],\n",
        "    help=\"Colors to draw classification two teams and referee, format: [c1,c2,c3] -> [T1,T2,R]\"\n",
        ")\n",
        "parser.add_argument(\n",
        "    \"--board_colors\",\n",
        "    nargs='+',\n",
        "    type=tuple,\n",
        "    default=['',''],\n",
        "    help=\"Colors to draw board possession of two teams, format: [c1,c2] -> [T1,T2]\"\n",
        ")\n",
        "parser.add_argument(\n",
        "    \"--text_colors\",\n",
        "    nargs='+',\n",
        "    type=tuple,\n",
        "    default=['',''],\n",
        "    help=\"Colors for text in board possession of two teams, format: [c1,c2]-> [T1,T2]\"\n",
        ")\n",
        "args = parser.parse_args(args=[])\n",
        "print(args)"
      ]
    },
    {
      "cell_type": "markdown",
      "source": [
        "### Download model weight and test video"
      ],
      "metadata": {
        "id": "l84kwP1k2iag"
      }
    },
    {
      "cell_type": "code",
      "source": [
        "%cd {HOME}/drive/MyDrive\n",
        "!gdown https://drive.google.com/uc?id=1P4b2Hgw3_9RMvp5sWIW0ZwB222KoHzhR&export=download"
      ],
      "metadata": {
        "colab": {
          "base_uri": "https://localhost:8080/"
        },
        "id": "w5P_Skq72T0c",
        "outputId": "e353d423-5435-41c8-9dbb-a967364d91cd"
      },
      "execution_count": 11,
      "outputs": [
        {
          "output_type": "stream",
          "name": "stdout",
          "text": [
            "/content/drive/MyDrive\n",
            "Downloading...\n",
            "From: https://drive.google.com/uc?id=1P4b2Hgw3_9RMvp5sWIW0ZwB222KoHzhR\n",
            "To: /content/drive/MyDrive/bestx.pt\n",
            "100% 281M/281M [00:06<00:00, 40.8MB/s]\n"
          ]
        }
      ]
    },
    {
      "cell_type": "markdown",
      "source": [
        "Use torch hub to load model"
      ],
      "metadata": {
        "id": "0vkWsONT5GE7"
      }
    },
    {
      "cell_type": "code",
      "source": [
        "args.model = f\"{HOME}/drive/MyDrive/bestx.pt\""
      ],
      "metadata": {
        "id": "20Vqs2Vm2XNO"
      },
      "execution_count": 12,
      "outputs": []
    },
    {
      "cell_type": "code",
      "source": [
        "%cd {HOME}/drive/MyDrive/yolov5\n",
        "import torch\n",
        "model = torch.hub.load('.', 'custom', args.model, source='local')"
      ],
      "metadata": {
        "colab": {
          "base_uri": "https://localhost:8080/"
        },
        "id": "2E6liYyd2aGH",
        "outputId": "41e6f671-c089-4081-d763-9f4c2831adcd"
      },
      "execution_count": 13,
      "outputs": [
        {
          "output_type": "stream",
          "name": "stdout",
          "text": [
            "/content/drive/MyDrive/yolov5\n"
          ]
        },
        {
          "output_type": "stream",
          "name": "stderr",
          "text": [
            "YOLOv5 🚀 v7.0-192-g459dd49 Python-3.10.12 torch-2.0.1+cu118 CUDA:0 (Tesla T4, 15102MiB)\n",
            "\n",
            "Fusing layers... \n",
            "Model summary: 416 layers, 139999708 parameters, 0 gradients, 207.9 GFLOPs\n",
            "Adding AutoShape... \n"
          ]
        }
      ]
    },
    {
      "cell_type": "code",
      "source": [
        "model.names"
      ],
      "metadata": {
        "colab": {
          "base_uri": "https://localhost:8080/"
        },
        "id": "lmLKaGyE2b7B",
        "outputId": "af07a1f2-8e9a-46b5-9697-0175d6c02ac4"
      },
      "execution_count": 14,
      "outputs": [
        {
          "output_type": "execute_result",
          "data": {
            "text/plain": [
              "{0: 'ball', 1: 'goalkeeper', 2: 'player', 3: 'referee'}"
            ]
          },
          "metadata": {},
          "execution_count": 14
        }
      ]
    },
    {
      "cell_type": "markdown",
      "source": [
        "Download test video from my drive\n",
        "\n",
        "You can use your test video but pay attention to camera angle conditions"
      ],
      "metadata": {
        "id": "bRO8iCas5CeP"
      }
    },
    {
      "cell_type": "code",
      "source": [
        "!pip install youtube-dl"
      ],
      "metadata": {
        "colab": {
          "base_uri": "https://localhost:8080/"
        },
        "id": "p1P62N0s48c2",
        "outputId": "63add5f8-ee43-4c0a-b484-7bc207a35310"
      },
      "execution_count": 15,
      "outputs": [
        {
          "output_type": "stream",
          "name": "stdout",
          "text": [
            "Collecting youtube-dl\n",
            "  Downloading youtube_dl-2021.12.17-py2.py3-none-any.whl (1.9 MB)\n",
            "\u001b[?25l     \u001b[90m━━━━━━━━━━━━━━━━━━━━━━━━━━━━━━━━━━━━━━━━\u001b[0m \u001b[32m0.0/1.9 MB\u001b[0m \u001b[31m?\u001b[0m eta \u001b[36m-:--:--\u001b[0m\r\u001b[2K     \u001b[91m━━━━━━━━━━━━━━━━━━━━━━━━━━━━━━━━━━━━━━━\u001b[0m\u001b[91m╸\u001b[0m \u001b[32m1.9/1.9 MB\u001b[0m \u001b[31m84.0 MB/s\u001b[0m eta \u001b[36m0:00:01\u001b[0m\r\u001b[2K     \u001b[90m━━━━━━━━━━━━━━━━━━━━━━━━━━━━━━━━━━━━━━━━\u001b[0m \u001b[32m1.9/1.9 MB\u001b[0m \u001b[31m53.3 MB/s\u001b[0m eta \u001b[36m0:00:00\u001b[0m\n",
            "\u001b[?25hInstalling collected packages: youtube-dl\n",
            "Successfully installed youtube-dl-2021.12.17\n"
          ]
        }
      ]
    },
    {
      "cell_type": "code",
      "source": [
        "%cd {HOME}/drive/MyDrive/Football-Match-Analysis/football\n",
        "!youtube-dl -o \"%(title)s\" https://drive.google.com/file/d/1k37G4KKscLNqZRa9fHHOEBe47HPhNz0b/view?usp=sharing"
      ],
      "metadata": {
        "colab": {
          "base_uri": "https://localhost:8080/"
        },
        "id": "hgqjDEG44-t4",
        "outputId": "7d43b27d-9af5-4d49-89c2-670f13698e37"
      },
      "execution_count": 16,
      "outputs": [
        {
          "output_type": "stream",
          "name": "stdout",
          "text": [
            "/content/drive/MyDrive/Football-Match-Analysis/football\n",
            "[GoogleDrive] 1k37G4KKscLNqZRa9fHHOEBe47HPhNz0b: Downloading webpage\n",
            "[GoogleDrive] 1k37G4KKscLNqZRa9fHHOEBe47HPhNz0b: Requesting source file\n",
            "[download] Destination: mun_sev_test.mp4\n",
            "\u001b[K[download] 100% of 75.33MiB in 00:02\n"
          ]
        }
      ]
    },
    {
      "cell_type": "markdown",
      "source": [
        "### All necessary modules and libaries"
      ],
      "metadata": {
        "id": "5jSlXeReENGC"
      }
    },
    {
      "cell_type": "code",
      "source": [
        "import sys\n",
        "sys.path.append(f'{HOME}/drive/MyDrive/ByteTrack')\n",
        "sys.path.append(f'{HOME}/drive/MyDrive/Football-Match-Analysis/football')"
      ],
      "metadata": {
        "id": "_yotbAz0OFPc"
      },
      "execution_count": 17,
      "outputs": []
    },
    {
      "cell_type": "code",
      "execution_count": 18,
      "metadata": {
        "id": "CTXgyUJPPmsa"
      },
      "outputs": [],
      "source": [
        "import cv2\n",
        "import matplotlib\n",
        "from analysis.filter import filters\n",
        "from analysis.hsv_classifier import HSVClassifier\n",
        "from analysis.inertia_classifier import InertiaClassifier\n",
        "from analysis.colors import Color\n",
        "from draw.annotate import BaseAnnotator\n",
        "from draw.marker import MarkerAnntator\n",
        "from util.detection import (\n",
        "    Detection,\n",
        "    filter_class,\n",
        "    filter_classification,\n",
        "    true_ball\n",
        ")\n",
        "from util.track import (\n",
        "    BYTETrackerArgs,\n",
        "    detections2boxes,\n",
        "    tracks2boxes,\n",
        "    match_detections_with_tracks\n",
        ")\n",
        "from draw.draw_possession import (\n",
        "    get_possession_background,\n",
        "    draw_possession_counter\n",
        ")\n",
        "from analysis.possession import (\n",
        "    get_player_in_possession,\n",
        "    get_team_in_possession,\n",
        "    inertia_possession\n",
        ")\n",
        "from util.video import Video\n",
        "\n",
        "from yolox.tracker.byte_tracker import BYTETracker"
      ]
    },
    {
      "cell_type": "markdown",
      "source": [
        "### Color for annotate and board possession"
      ],
      "metadata": {
        "id": "ywltMnvGEb2n"
      }
    },
    {
      "cell_type": "code",
      "execution_count": 19,
      "metadata": {
        "id": "tN0ykKJwHgdr"
      },
      "outputs": [],
      "source": [
        "# annotation color\n",
        "# home color\n",
        "HOME_COLOR_HEX = matplotlib.colors.cnames[args.colors_draw[0]]\n",
        "HOME_COLOR = Color.from_hex_string(HOME_COLOR_HEX)\n",
        "\n",
        "# away color\n",
        "AWAY_COLOR_HEX = matplotlib.colors.cnames[args.colors_draw[1]]\n",
        "AWAY_COLOR = Color.from_hex_string(AWAY_COLOR_HEX)\n",
        "\n",
        "# refree color\n",
        "REFEREE_COLOR_HEX = matplotlib.colors.cnames[args.colors_draw[2]]\n",
        "REFEREE_COLOR = Color.from_hex_string(REFEREE_COLOR_HEX)\n",
        "\n",
        "# possession board and text color\n",
        "HOME_BOARD_HEX = matplotlib.colors.cnames['cornflowerblue']\n",
        "args.board_colors[0] = Color.from_hex_string(HOME_BOARD_HEX).bgr_tuple\n",
        "HOME_TEXT_HEX = matplotlib.colors.cnames['white']\n",
        "args.text_colors[0] = Color.from_hex_string(HOME_TEXT_HEX).bgr_tuple\n",
        "AWAY_BOARD_HEX = matplotlib.colors.cnames['royalblue']\n",
        "args.board_colors[1] = Color.from_hex_string(AWAY_BOARD_HEX).bgr_tuple\n",
        "AWAY_TEXT_HEX = matplotlib.colors.cnames['white']\n",
        "args.text_colors[1] = Color.from_hex_string(AWAY_TEXT_HEX).bgr_tuple"
      ]
    },
    {
      "cell_type": "markdown",
      "source": [
        "### Color for marker of ball and closest player"
      ],
      "metadata": {
        "id": "3avJGpQBExU0"
      }
    },
    {
      "cell_type": "code",
      "execution_count": 20,
      "metadata": {
        "id": "1_tur54aHZsn"
      },
      "outputs": [],
      "source": [
        "# marker color\n",
        "MARKER_CONTOUR_COLOR_HEX = \"000000\"\n",
        "MARKER_CONTOUR_COLOR = Color.from_hex_string(MARKER_CONTOUR_COLOR_HEX)\n",
        "\n",
        "# player maker color\n",
        "PLAYER_MARKER_FILL_COLOR_HEX = \"FF0000\"\n",
        "PLAYER_MARKER_FILL_COLOR = Color.from_hex_string(PLAYER_MARKER_FILL_COLOR_HEX)\n",
        "\n",
        "# ball maker color\n",
        "BALL_MERKER_FILL_COLOR_HEX = \"00FF00\"\n",
        "BALL_MARKER_FILL_COLOR = Color.from_hex_string(BALL_MERKER_FILL_COLOR_HEX)\n",
        "\n",
        "# marker parameters\n",
        "MARKER_CONTOUR_THICKNESS = 2\n",
        "MARKER_WIDTH = 15\n",
        "MARKER_HEIGHT = 15\n",
        "MARKER_MARGIN = 7\n",
        "\n",
        "# distance in pixels from the player's bounding box where we consider the ball is in his possession\n",
        "PLAYER_IN_POSSESSION_PROXIMITY = 40"
      ]
    },
    {
      "cell_type": "markdown",
      "source": [
        "### Path for test video and board possession image"
      ],
      "metadata": {
        "id": "gCG_PDnVE2C-"
      }
    },
    {
      "cell_type": "code",
      "execution_count": 21,
      "metadata": {
        "id": "VYV2gkp-HiBY"
      },
      "outputs": [],
      "source": [
        "args.source = f\"{HOME}/drive/MyDrive/Football-Match-Analysis/football/mun_sev_test.mp4\"\n",
        "BOARD_IMG_PATH = f\"{HOME}/drive/MyDrive/Football-Match-Analysis/football/draw/board_possession.png\""
      ]
    },
    {
      "cell_type": "markdown",
      "source": [
        "### Init some setting for running\n",
        "### Include: video, annotators, hsv classifier, ByteTrack and possession per team"
      ],
      "metadata": {
        "id": "CqcVltgkFKY-"
      }
    },
    {
      "cell_type": "code",
      "source": [
        "# initiate video reader and writer\n",
        "video = Video(input_path=args.source)\n",
        "\n",
        "# initiate annotators\n",
        "THICKNESS = 4\n",
        "player_home_annotator = BaseAnnotator(\n",
        "    colors = HOME_COLOR,thickness=THICKNESS)\n",
        "player_away_annotator = BaseAnnotator(\n",
        "    colors = AWAY_COLOR,thickness=THICKNESS)\n",
        "referee_annotator = BaseAnnotator(\n",
        "    colors = REFEREE_COLOR,thickness=THICKNESS)\n",
        "\n",
        "ball_marker_annotator = MarkerAnntator(\n",
        "    color=BALL_MARKER_FILL_COLOR)\n",
        "player_in_possession_marker_annotator = MarkerAnntator(\n",
        "    color=PLAYER_MARKER_FILL_COLOR)\n",
        "\n",
        "# HSV Classifier\n",
        "hsv_filters = filters(args)\n",
        "hsv_classifier = HSVClassifier(filters=hsv_filters)\n",
        "# Add inertia to classifier\n",
        "classifier = InertiaClassifier(classifier=hsv_classifier, inertia=20)\n",
        "possession_background  = get_possession_background(board_img = BOARD_IMG_PATH)\n",
        "# initiate tracker\n",
        "byte_tracker = BYTETracker(BYTETrackerArgs())\n",
        "team_possession = {}"
      ],
      "metadata": {
        "id": "sSP-UmBeDlAO"
      },
      "execution_count": 22,
      "outputs": []
    },
    {
      "cell_type": "markdown",
      "source": [
        "### Now run this cell to start analyzing"
      ],
      "metadata": {
        "id": "nlMFBSz9Fuzz"
      }
    },
    {
      "cell_type": "code",
      "source": [
        "# loop over frames\n",
        "for index, frame in enumerate(video):\n",
        "\n",
        "    # initiate annotate video frame\n",
        "    annotated_image = frame.copy()\n",
        "\n",
        "    #------------------------------------------------------------RUN DETECTION AND CONVERT TO DETECTION CLASS------------------------------------------------------------#\n",
        "\n",
        "    frame_rgb = frame[...,::-1].copy()\n",
        "    results = model(frame_rgb, size=1280)\n",
        "    detections = Detection.from_numpy(\n",
        "        pred=results.pred[0].cpu().numpy().copy(),\n",
        "        names=model.names)\n",
        "\n",
        "    #------------------------------------------------------------FILTER OF BALL AND PERSON------------------------------------------------------------#\n",
        "\n",
        "    ball_detections = filter_class(detections=detections.copy(), class_id=0)\n",
        "    ball_detection = true_ball(detections=ball_detections.copy(), ball_confidence = args.ball_conf)\n",
        "\n",
        "    tracked_person_detections = filter_class(detections=detections.copy(), class_id=0, reverse=True)\n",
        "\n",
        "    #------------------------------------------------------------TRACKING AND MATCH TO DETECTION------------------------------------------------------------#\n",
        "\n",
        "    if len(tracked_person_detections) != 0:\n",
        "        tracks = byte_tracker.update(\n",
        "                output_results=detections2boxes(detections=tracked_person_detections.copy()),\n",
        "                img_info=frame.shape,\n",
        "                img_size=frame.shape\n",
        "        )\n",
        "        tracked_detections = match_detections_with_tracks(detections=tracked_person_detections.copy(), tracks=tracks.copy())\n",
        "\n",
        "        #------------------------------------------------------------CLASSIFY TWO TEAM AND REFEREE------------------------------------------------------------#\n",
        "\n",
        "        tracked_person_detections_pd = classifier.predict_from_detections(detections=tracked_detections.copy(), img=frame.copy())\n",
        "\n",
        "        tracked_referee_detections = filter_classification(detections = tracked_person_detections_pd.copy(), classification=\"Referee\")\n",
        "        tracked_player_home_detections = filter_classification(detections = tracked_person_detections_pd.copy(), classification = args.teams_name[0])\n",
        "        tracked_player_away_detections = filter_classification(detections = tracked_person_detections_pd.copy(), classification = args.teams_name[1])\n",
        "        player_detections = tracked_player_home_detections + tracked_player_away_detections\n",
        "\n",
        "        #------------------------------------------------------------FIND PLAYER IN POSSESSION OF BALL------------------------------------------------------------#\n",
        "\n",
        "        player_in_possession_detection = get_player_in_possession(\n",
        "                                         player_detections=player_detections.copy(),\n",
        "                                         ball_detections=[ball_detection] if ball_detection else [],\n",
        "                                         proximity=PLAYER_IN_POSSESSION_PROXIMITY)\n",
        "\n",
        "        team_possession = get_team_in_possession(\n",
        "                          team_possession = team_possession.copy(),\n",
        "                          player_possession = player_in_possession_detection,\n",
        "                          args=args)\n",
        "\n",
        "        player_in_possession_detection = inertia_possession(player_possession = player_in_possession_detection, team_possession = team_possession.copy())\n",
        "\n",
        "        #------------------------------------------------------------ANNOTATE ON FRAME------------------------------------------------------------#\n",
        "\n",
        "        annotated_image = player_home_annotator.annotate(\n",
        "          image=annotated_image.copy(),\n",
        "          detections=tracked_player_home_detections.copy())\n",
        "\n",
        "        annotated_image = player_away_annotator.annotate(\n",
        "          image=annotated_image.copy(),\n",
        "          detections=tracked_player_away_detections.copy())\n",
        "\n",
        "        annotated_image = referee_annotator.annotate(\n",
        "          image=annotated_image.copy(),\n",
        "          detections=tracked_referee_detections.copy())\n",
        "\n",
        "        annotated_image = ball_marker_annotator.annotate(\n",
        "          image=annotated_image.copy(),\n",
        "          detections=[ball_detection] if ball_detection else [],\n",
        "          width = MARKER_WIDTH,\n",
        "          height = MARKER_HEIGHT,\n",
        "          margin = MARKER_MARGIN,\n",
        "          thickness = MARKER_CONTOUR_THICKNESS,\n",
        "          color_contour=MARKER_CONTOUR_COLOR)\n",
        "\n",
        "        annotated_image = player_in_possession_marker_annotator.annotate(\n",
        "          image=annotated_image.copy(),\n",
        "          detections=[player_in_possession_detection] if player_in_possession_detection else [],\n",
        "          width = MARKER_WIDTH,\n",
        "          height = MARKER_HEIGHT,\n",
        "          margin = MARKER_MARGIN,\n",
        "          thickness = MARKER_CONTOUR_THICKNESS,\n",
        "          color_contour=MARKER_CONTOUR_COLOR)\n",
        "\n",
        "        if args.possession:\n",
        "           annotated_image = draw_possession_counter(\n",
        "                             team_possession=team_possession.copy(),\n",
        "                             frame=annotated_image.copy(),\n",
        "                             counter_background=possession_background.copy(),\n",
        "                             args=args)\n",
        "\n",
        "    #------------------------------------------------------------SAVE ANNOTATED FRAME------------------------------------------------------------#\n",
        "\n",
        "    video.write(annotated_image.copy())"
      ],
      "metadata": {
        "colab": {
          "base_uri": "https://localhost:8080/",
          "height": 52,
          "referenced_widgets": [
            "4894726bb2de4b2ca4ba0123129084ee",
            "1a6bbb42f6f441978bbbdd6ec9d05c66"
          ]
        },
        "id": "gT9u_9dXnYCB",
        "outputId": "66400e5f-1ba9-43d9-8015-20107079771c"
      },
      "execution_count": 23,
      "outputs": [
        {
          "output_type": "display_data",
          "data": {
            "text/plain": [
              "Output()"
            ],
            "application/vnd.jupyter.widget-view+json": {
              "version_major": 2,
              "version_minor": 0,
              "model_id": "4894726bb2de4b2ca4ba0123129084ee"
            }
          },
          "metadata": {}
        },
        {
          "output_type": "display_data",
          "data": {
            "text/plain": [],
            "text/html": [
              "<pre style=\"white-space:pre;overflow-x:auto;line-height:normal;font-family:Menlo,'DejaVu Sans Mono',consolas,'Courier New',monospace\"></pre>\n"
            ]
          },
          "metadata": {}
        },
        {
          "output_type": "display_data",
          "data": {
            "text/plain": [
              "\n"
            ],
            "text/html": [
              "<pre style=\"white-space:pre;overflow-x:auto;line-height:normal;font-family:Menlo,'DejaVu Sans Mono',consolas,'Courier New',monospace\">\n",
              "</pre>\n"
            ]
          },
          "metadata": {}
        },
        {
          "output_type": "display_data",
          "data": {
            "text/plain": [
              "\u001b[37mOutput video file saved to: .\u001b[0m\u001b[37m/\u001b[0m\u001b[37mmun_sev_test_out.mp4\u001b[0m\n"
            ],
            "text/html": [
              "<pre style=\"white-space:pre;overflow-x:auto;line-height:normal;font-family:Menlo,'DejaVu Sans Mono',consolas,'Courier New',monospace\"><span style=\"color: #c0c0c0; text-decoration-color: #c0c0c0\">Output video file saved to: ./mun_sev_test_out.mp4</span>\n",
              "</pre>\n"
            ]
          },
          "metadata": {}
        }
      ]
    },
    {
      "cell_type": "markdown",
      "source": [
        "Output video saved in Football-Match-Analysis/football folder in your drive"
      ],
      "metadata": {
        "id": "9nGLkONc-OhO"
      }
    }
  ],
  "metadata": {
    "colab": {
      "provenance": [],
      "gpuType": "T4",
      "include_colab_link": true
    },
    "kernelspec": {
      "display_name": "Python 3",
      "name": "python3"
    },
    "language_info": {
      "name": "python"
    },
    "accelerator": "GPU",
    "widgets": {
      "application/vnd.jupyter.widget-state+json": {
        "4894726bb2de4b2ca4ba0123129084ee": {
          "model_module": "@jupyter-widgets/output",
          "model_name": "OutputModel",
          "model_module_version": "1.0.0",
          "state": {
            "_dom_classes": [],
            "_model_module": "@jupyter-widgets/output",
            "_model_module_version": "1.0.0",
            "_model_name": "OutputModel",
            "_view_count": null,
            "_view_module": "@jupyter-widgets/output",
            "_view_module_version": "1.0.0",
            "_view_name": "OutputView",
            "layout": "IPY_MODEL_1a6bbb42f6f441978bbbdd6ec9d05c66",
            "msg_id": "",
            "outputs": [
              {
                "output_type": "display_data",
                "data": {
                  "text/plain": "mun_sev_test.mp4 \u001b[38;2;114;156;31m━━━━━━━━━━━━━━━━━━━━━━━━━━━━━━━━━━━━━━━━\u001b[0m \u001b[35m100%\u001b[0m \u001b[36m0:00:00\u001b[0m \u001b[33m3.20fps\u001b[0m\n",
                  "text/html": "<pre style=\"white-space:pre;overflow-x:auto;line-height:normal;font-family:Menlo,'DejaVu Sans Mono',consolas,'Courier New',monospace\">mun_sev_test.mp4 <span style=\"color: #729c1f; text-decoration-color: #729c1f\">━━━━━━━━━━━━━━━━━━━━━━━━━━━━━━━━━━━━━━━━</span> <span style=\"color: #800080; text-decoration-color: #800080\">100%</span> <span style=\"color: #008080; text-decoration-color: #008080\">0:00:00</span> <span style=\"color: #808000; text-decoration-color: #808000\">3.20fps</span>\n</pre>\n"
                },
                "metadata": {}
              }
            ]
          }
        },
        "1a6bbb42f6f441978bbbdd6ec9d05c66": {
          "model_module": "@jupyter-widgets/base",
          "model_name": "LayoutModel",
          "model_module_version": "1.2.0",
          "state": {
            "_model_module": "@jupyter-widgets/base",
            "_model_module_version": "1.2.0",
            "_model_name": "LayoutModel",
            "_view_count": null,
            "_view_module": "@jupyter-widgets/base",
            "_view_module_version": "1.2.0",
            "_view_name": "LayoutView",
            "align_content": null,
            "align_items": null,
            "align_self": null,
            "border": null,
            "bottom": null,
            "display": null,
            "flex": null,
            "flex_flow": null,
            "grid_area": null,
            "grid_auto_columns": null,
            "grid_auto_flow": null,
            "grid_auto_rows": null,
            "grid_column": null,
            "grid_gap": null,
            "grid_row": null,
            "grid_template_areas": null,
            "grid_template_columns": null,
            "grid_template_rows": null,
            "height": null,
            "justify_content": null,
            "justify_items": null,
            "left": null,
            "margin": null,
            "max_height": null,
            "max_width": null,
            "min_height": null,
            "min_width": null,
            "object_fit": null,
            "object_position": null,
            "order": null,
            "overflow": null,
            "overflow_x": null,
            "overflow_y": null,
            "padding": null,
            "right": null,
            "top": null,
            "visibility": null,
            "width": null
          }
        }
      }
    }
  },
  "nbformat": 4,
  "nbformat_minor": 0
}
