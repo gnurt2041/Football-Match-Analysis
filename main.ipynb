{
  "cells": [
    {
      "cell_type": "markdown",
      "source": [
        "# Track + analyze football matches through broadcast video using\n",
        "# YOLOv5 + ByteTrack + HSV Classifier"
      ],
      "metadata": {
        "id": "2QTkONVJ9s4h"
      }
    },
    {
      "cell_type": "markdown",
      "source": [
        "### Connect this colab notebook with Google Drive"
      ],
      "metadata": {
        "id": "NNxf5STp-k6i"
      }
    },
    {
      "cell_type": "code",
      "execution_count": 1,
      "metadata": {
        "colab": {
          "base_uri": "https://localhost:8080/"
        },
        "id": "glGBMO6tGE8O",
        "outputId": "5cc46f03-e2e1-4bb8-ece6-37ba90590ef3"
      },
      "outputs": [
        {
          "output_type": "stream",
          "name": "stdout",
          "text": [
            "Mounted at /content/drive\n"
          ]
        }
      ],
      "source": [
        "from google.colab import drive\n",
        "drive.mount('/content/drive')"
      ]
    },
    {
      "cell_type": "markdown",
      "source": [
        "### Check the GPU device info"
      ],
      "metadata": {
        "id": "GlERqeOg-KBr"
      }
    },
    {
      "cell_type": "code",
      "execution_count": 2,
      "metadata": {
        "colab": {
          "base_uri": "https://localhost:8080/"
        },
        "id": "Qc_8J5rtG5Xe",
        "outputId": "e2c628f7-d4c6-4192-b868-a2489f42e727"
      },
      "outputs": [
        {
          "output_type": "stream",
          "name": "stdout",
          "text": [
            "Mon Jul  3 08:42:38 2023       \n",
            "+-----------------------------------------------------------------------------+\n",
            "| NVIDIA-SMI 525.85.12    Driver Version: 525.85.12    CUDA Version: 12.0     |\n",
            "|-------------------------------+----------------------+----------------------+\n",
            "| GPU  Name        Persistence-M| Bus-Id        Disp.A | Volatile Uncorr. ECC |\n",
            "| Fan  Temp  Perf  Pwr:Usage/Cap|         Memory-Usage | GPU-Util  Compute M. |\n",
            "|                               |                      |               MIG M. |\n",
            "|===============================+======================+======================|\n",
            "|   0  Tesla T4            Off  | 00000000:00:04.0 Off |                    0 |\n",
            "| N/A   61C    P8    10W /  70W |      0MiB / 15360MiB |      0%      Default |\n",
            "|                               |                      |                  N/A |\n",
            "+-------------------------------+----------------------+----------------------+\n",
            "                                                                               \n",
            "+-----------------------------------------------------------------------------+\n",
            "| Processes:                                                                  |\n",
            "|  GPU   GI   CI        PID   Type   Process name                  GPU Memory |\n",
            "|        ID   ID                                                   Usage      |\n",
            "|=============================================================================|\n",
            "|  No running processes found                                                 |\n",
            "+-----------------------------------------------------------------------------+\n"
          ]
        }
      ],
      "source": [
        "!nvidia-smi"
      ]
    },
    {
      "cell_type": "markdown",
      "source": [
        "Get root direction"
      ],
      "metadata": {
        "id": "nTWrEu6P-U_b"
      }
    },
    {
      "cell_type": "code",
      "execution_count": 3,
      "metadata": {
        "colab": {
          "base_uri": "https://localhost:8080/"
        },
        "id": "6foaIMkiG8CI",
        "outputId": "adc4d257-3e6f-43bc-82aa-e6200c2ec86f"
      },
      "outputs": [
        {
          "output_type": "stream",
          "name": "stdout",
          "text": [
            "/content\n"
          ]
        }
      ],
      "source": [
        "import os\n",
        "HOME = os.getcwd()\n",
        "print(HOME)"
      ]
    },
    {
      "cell_type": "markdown",
      "source": [
        "### Clone the yolov5 github from ultralytics into your drive"
      ],
      "metadata": {
        "id": "qUHagISE-bu_"
      }
    },
    {
      "cell_type": "code",
      "source": [
        "%cd {HOME}/drive/MyDrive/\n",
        "!git clone https://github.com/ultralytics/yolov5"
      ],
      "metadata": {
        "id": "YXMxl-or8u_i",
        "colab": {
          "base_uri": "https://localhost:8080/"
        },
        "outputId": "e21e09a2-dd0b-48c8-fce6-bdfb9e44d0d3"
      },
      "execution_count": null,
      "outputs": [
        {
          "output_type": "stream",
          "name": "stdout",
          "text": [
            "/content/drive/MyDrive\n",
            "fatal: destination path 'yolov5' already exists and is not an empty directory.\n"
          ]
        }
      ]
    },
    {
      "cell_type": "markdown",
      "source": [
        "After cloned yolov5 github, you have to open yolov5/models/common.py file in yolov5 folder in your drive.\n",
        "\n",
        "You need to change the 'stride' parameter in line 338 from 32 to 64\n",
        "\n",
        "Because the default code is for P5 version but my model is P6 version which use stride = 64![image.png](data:image/png;base64,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)"
      ],
      "metadata": {
        "id": "55uS8TYi8zpI"
      }
    },
    {
      "cell_type": "markdown",
      "source": [
        "Then restart the runtime to run perfectly. From now, you don't need to clone and change anything in the yolov5 folder."
      ],
      "metadata": {
        "id": "NISZK7ssA4M0"
      }
    },
    {
      "cell_type": "markdown",
      "source": [
        "Install requirements packages to run yolov5"
      ],
      "metadata": {
        "id": "2Ckm9wAs_YMO"
      }
    },
    {
      "cell_type": "code",
      "execution_count": 4,
      "metadata": {
        "colab": {
          "base_uri": "https://localhost:8080/"
        },
        "id": "PKMcZ3jrG-GZ",
        "outputId": "e7c8fcdf-d00b-4477-f952-d94d93eeff33"
      },
      "outputs": [
        {
          "output_type": "stream",
          "name": "stderr",
          "text": [
            "YOLOv5 🚀 v7.0-185-g2334aa7 Python-3.10.12 torch-2.0.1+cu118 CUDA:0 (Tesla T4, 15102MiB)\n"
          ]
        },
        {
          "output_type": "stream",
          "name": "stdout",
          "text": [
            "Setup complete ✅ (2 CPUs, 12.7 GB RAM, 24.2/78.2 GB disk)\n"
          ]
        }
      ],
      "source": [
        "%cd {HOME}/drive/MyDrive/yolov5\n",
        "!pip install -qr requirements.txt\n",
        "\n",
        "import utils\n",
        "display = utils.notebook_init()"
      ]
    },
    {
      "cell_type": "markdown",
      "source": [
        "### Clone ByteTrack github for tracking task"
      ],
      "metadata": {
        "id": "W26U8f0VCG2A"
      }
    },
    {
      "cell_type": "code",
      "execution_count": 11,
      "metadata": {
        "id": "3Voa-IX_HHsn",
        "colab": {
          "base_uri": "https://localhost:8080/"
        },
        "outputId": "54abc835-d548-431f-c600-f835f84d66da"
      },
      "outputs": [
        {
          "output_type": "stream",
          "name": "stdout",
          "text": [
            "/content/drive/MyDrive\n",
            "Cloning into 'ByteTrack'...\n",
            "remote: Enumerating objects: 2007, done.\u001b[K\n",
            "remote: Total 2007 (delta 0), reused 0 (delta 0), pack-reused 2007\u001b[K\n",
            "Receiving objects: 100% (2007/2007), 79.60 MiB | 17.34 MiB/s, done.\n",
            "Resolving deltas: 100% (1141/1141), done.\n",
            "Updating files: 100% (229/229), done.\n"
          ]
        }
      ],
      "source": [
        "%cd {HOME}/drive/MyDrive/\n",
        "!git clone https://github.com/ifzhang/ByteTrack.git"
      ]
    },
    {
      "cell_type": "markdown",
      "source": [
        "Install requirement packages for ByteTrack\n",
        "\n",
        "Some other packages are for requirement package."
      ],
      "metadata": {
        "id": "_h7KMLy-CZZK"
      }
    },
    {
      "cell_type": "code",
      "source": [
        "%cd {HOME}/drive/MyDrive/ByteTrack\n",
        "\n",
        "# !sed -i 's/onnx==1.8.1/onnx==1.9.0/g' requirements.txt\n",
        "!pip3 install -q -r requirements.txt\n",
        "!python3 setup.py -q develop\n",
        "!pip install -q cython_bbox\n",
        "!pip install -q onemetric\n",
        "!pip install -q loguru lap\n",
        "!pip install onemetric --quiet\n",
        "from IPython import display\n",
        "display.clear_output()"
      ],
      "metadata": {
        "id": "7cNAQk0JCQJ-"
      },
      "execution_count": 5,
      "outputs": []
    },
    {
      "cell_type": "markdown",
      "source": [
        "### Clone my github to run analytics and annotations"
      ],
      "metadata": {
        "id": "CYqQl634J8tF"
      }
    },
    {
      "cell_type": "code",
      "source": [
        "%cd /content/drive/MyDrive\n",
        "!rm -rf Football-Match-Analysis\n",
        "!git clone https://github.com/gnurt2041/Football-Match-Analysis.git"
      ],
      "metadata": {
        "colab": {
          "base_uri": "https://localhost:8080/"
        },
        "id": "oNUOIYSeKIVd",
        "outputId": "63b8b3d0-0ba0-474f-f34f-1e4d882413a6"
      },
      "execution_count": 6,
      "outputs": [
        {
          "output_type": "stream",
          "name": "stdout",
          "text": [
            "/content/drive/MyDrive\n",
            "Cloning into 'Football-Match-Analysis'...\n",
            "remote: Enumerating objects: 420, done.\u001b[K\n",
            "remote: Counting objects: 100% (334/334), done.\u001b[K\n",
            "remote: Compressing objects: 100% (261/261), done.\u001b[K\n",
            "remote: Total 420 (delta 178), reused 136 (delta 69), pack-reused 86\u001b[K\n",
            "Receiving objects: 100% (420/420), 950.53 KiB | 7.73 MiB/s, done.\n",
            "Resolving deltas: 100% (202/202), done.\n"
          ]
        }
      ]
    },
    {
      "cell_type": "markdown",
      "source": [
        "### Arguments for run\n",
        "In google colab you can't use arguments from module, so you have to write and run it in code cell"
      ],
      "metadata": {
        "id": "n2_knzjsCzJQ"
      }
    },
    {
      "cell_type": "code",
      "execution_count": 7,
      "metadata": {
        "id": "DtG0-6exHebw",
        "colab": {
          "base_uri": "https://localhost:8080/"
        },
        "outputId": "5a37e9c0-2197-4732-8600-2ad62d84bfb0"
      },
      "outputs": [
        {
          "output_type": "stream",
          "name": "stdout",
          "text": [
            "Namespace(source='./test.mp4', model='/model.pt', possession=True, possession_threshold=15, ball_conf=0.4, teams_name=['MUN', 'SEV'], color_home=['red', 'blue', 'sky_blue', 'blueish_red'], color_away=['white', 'yellow'], color_referee='black', colors_draw=['blue', 'salmon', 'yellow'], board_colors=['', ''], text_colors=['', ''])\n"
          ]
        }
      ],
      "source": [
        "import argparse\n",
        "parser = argparse.ArgumentParser()\n",
        "parser.add_argument(\n",
        "    \"--source\",\n",
        "    default=\"./test.mp4\",\n",
        "    type=str,\n",
        "    help=\"Path to the input \"\n",
        ")\n",
        "parser.add_argument(\n",
        "    \"--model\", default=\"/model.pt\", type=str, help=\"Path to the model\"\n",
        ")\n",
        "parser.add_argument(\n",
        "    \"--possession\",\n",
        "    action=\"store_false\",\n",
        "    help=\"Enable possession counter\"\n",
        ")\n",
        "parser.add_argument(\n",
        "    \"--possession_threshold\",\n",
        "    type=int,\n",
        "    default=15,\n",
        "    help=\"Amount of consecutive frames new team has to have the ball in order to change possession\"\n",
        ")\n",
        "parser.add_argument(\n",
        "    \"--ball_conf\",\n",
        "    type=float,\n",
        "    default=0.4,\n",
        "    help=\"Ball confidence threshold\"\n",
        ")\n",
        "parser.add_argument(\n",
        "    \"--teams_name\",\n",
        "    nargs='+',\n",
        "    type=str,\n",
        "    default=['MUN','SEV'],\n",
        "    help=\"Name of two teams\"\n",
        ")\n",
        "parser.add_argument(\n",
        "    \"--color_home\",\n",
        "    nargs='+',\n",
        "    type=str,\n",
        "    default=['red','blue','sky_blue','blueish_red'],\n",
        "    help=\"Colors of two teams and refee, format: [c1,c2] -> [T1,T1]\"\n",
        ")\n",
        "parser.add_argument(\n",
        "    \"--color_away\",\n",
        "    nargs='+',\n",
        "    type=str,\n",
        "    default=['white','yellow'],\n",
        "    help=\"Colors of two teams and refee, format: [c3,c4] -> [T2,T2]\"\n",
        ")\n",
        "parser.add_argument(\n",
        "    \"--color_referee\",\n",
        "    type=str,\n",
        "    default='black',\n",
        "    help=\"Colors of two teams and refee, format: [c5] -> [R]\"\n",
        ")\n",
        "parser.add_argument(\n",
        "    \"--colors_draw\",\n",
        "    nargs='+',\n",
        "    type=str,\n",
        "    default=['blue','salmon','yellow'],\n",
        "    help=\"Colors to draw classification of teams and refee, format: [c1,c2,c3] -> [T1,T2,R]\"\n",
        ")\n",
        "parser.add_argument(\n",
        "    \"--board_colors\",\n",
        "    nargs='+',\n",
        "    type=tuple,\n",
        "    default=['',''],\n",
        "    help=\"Colors to draw classification of teams and refee, format: [c1,c2,c3] -> [T1,T2,R]\"\n",
        ")\n",
        "parser.add_argument(\n",
        "    \"--text_colors\",\n",
        "    nargs='+',\n",
        "    type=tuple,\n",
        "    default=['',''],\n",
        "    help=\"Colors to draw classification of teams and refee, format: [c1,c2,c3] -> [T1,T2,R]\"\n",
        ")\n",
        "args = parser.parse_args(args=[])\n",
        "print(args)"
      ]
    },
    {
      "cell_type": "markdown",
      "source": [
        "### Download model weight and test video"
      ],
      "metadata": {
        "id": "l84kwP1k2iag"
      }
    },
    {
      "cell_type": "markdown",
      "source": [
        "Use torch hub to load model"
      ],
      "metadata": {
        "id": "0vkWsONT5GE7"
      }
    },
    {
      "cell_type": "code",
      "source": [
        "%cd {HOME}/drive/MyDrive\n",
        "!gdown https://drive.google.com/uc?id=1P4b2Hgw3_9RMvp5sWIW0ZwB222KoHzhR&export=download"
      ],
      "metadata": {
        "colab": {
          "base_uri": "https://localhost:8080/"
        },
        "id": "w5P_Skq72T0c",
        "outputId": "7303e24b-d75b-432e-db6a-deed53463f6e"
      },
      "execution_count": 21,
      "outputs": [
        {
          "output_type": "stream",
          "name": "stdout",
          "text": [
            "/content/drive/MyDrive\n",
            "Downloading...\n",
            "From: https://drive.google.com/uc?id=1P4b2Hgw3_9RMvp5sWIW0ZwB222KoHzhR\n",
            "To: /content/drive/MyDrive/bestx.pt\n",
            "100% 281M/281M [00:01<00:00, 238MB/s]\n"
          ]
        }
      ]
    },
    {
      "cell_type": "code",
      "source": [
        "args.model = f\"{HOME}/drive/MyDrive/bestx.pt\""
      ],
      "metadata": {
        "id": "20Vqs2Vm2XNO"
      },
      "execution_count": 8,
      "outputs": []
    },
    {
      "cell_type": "code",
      "source": [
        "%cd {HOME}/drive/MyDrive/yolov5\n",
        "import torch\n",
        "model = torch.hub.load('.', 'custom', args.model, source='local')"
      ],
      "metadata": {
        "colab": {
          "base_uri": "https://localhost:8080/"
        },
        "id": "2E6liYyd2aGH",
        "outputId": "71f8b15d-4ce1-4687-cec4-6623aeeb76f9"
      },
      "execution_count": 9,
      "outputs": [
        {
          "output_type": "stream",
          "name": "stdout",
          "text": [
            "/content/drive/MyDrive/yolov5\n"
          ]
        },
        {
          "output_type": "stream",
          "name": "stderr",
          "text": [
            "YOLOv5 🚀 v7.0-185-g2334aa7 Python-3.10.12 torch-2.0.1+cu118 CUDA:0 (Tesla T4, 15102MiB)\n",
            "\n",
            "Fusing layers... \n",
            "Model summary: 416 layers, 139999708 parameters, 0 gradients, 207.9 GFLOPs\n",
            "Adding AutoShape... \n"
          ]
        }
      ]
    },
    {
      "cell_type": "code",
      "source": [
        "model.names"
      ],
      "metadata": {
        "colab": {
          "base_uri": "https://localhost:8080/"
        },
        "id": "lmLKaGyE2b7B",
        "outputId": "074d2fe4-adcb-4e00-91c6-f7ab6e2d34b0"
      },
      "execution_count": 10,
      "outputs": [
        {
          "output_type": "execute_result",
          "data": {
            "text/plain": [
              "{0: 'ball', 1: 'goalkeeper', 2: 'player', 3: 'referee'}"
            ]
          },
          "metadata": {},
          "execution_count": 10
        }
      ]
    },
    {
      "cell_type": "markdown",
      "source": [
        "Download test video from my drive\n",
        "\n",
        "You can use your test video but pay attention to camera angle conditions"
      ],
      "metadata": {
        "id": "bRO8iCas5CeP"
      }
    },
    {
      "cell_type": "code",
      "source": [
        "!pip install youtube-dl"
      ],
      "metadata": {
        "colab": {
          "base_uri": "https://localhost:8080/"
        },
        "id": "p1P62N0s48c2",
        "outputId": "35d93869-c9cc-4d72-8c81-cd47e21de4cc"
      },
      "execution_count": 11,
      "outputs": [
        {
          "output_type": "stream",
          "name": "stdout",
          "text": [
            "Collecting youtube-dl\n",
            "  Downloading youtube_dl-2021.12.17-py2.py3-none-any.whl (1.9 MB)\n",
            "\u001b[?25l     \u001b[90m━━━━━━━━━━━━━━━━━━━━━━━━━━━━━━━━━━━━━━━━\u001b[0m \u001b[32m0.0/1.9 MB\u001b[0m \u001b[31m?\u001b[0m eta \u001b[36m-:--:--\u001b[0m\r\u001b[2K     \u001b[91m━━━━━━━━\u001b[0m\u001b[90m╺\u001b[0m\u001b[90m━━━━━━━━━━━━━━━━━━━━━━━━━━━━━━━\u001b[0m \u001b[32m0.4/1.9 MB\u001b[0m \u001b[31m11.7 MB/s\u001b[0m eta \u001b[36m0:00:01\u001b[0m\r\u001b[2K     \u001b[90m━━━━━━━━━━━━━━━━━━━━━━━━━━━━━━━━━━━━━━━━\u001b[0m \u001b[32m1.9/1.9 MB\u001b[0m \u001b[31m27.2 MB/s\u001b[0m eta \u001b[36m0:00:00\u001b[0m\n",
            "\u001b[?25hInstalling collected packages: youtube-dl\n",
            "Successfully installed youtube-dl-2021.12.17\n"
          ]
        }
      ]
    },
    {
      "cell_type": "code",
      "source": [
        "%cd {HOME}/drive/MyDrive/Football-Match-Analysis/football\n",
        "!youtube-dl -o \"%(title)s\" https://drive.google.com/file/d/1k37G4KKscLNqZRa9fHHOEBe47HPhNz0b/view?usp=sharing"
      ],
      "metadata": {
        "colab": {
          "base_uri": "https://localhost:8080/"
        },
        "id": "hgqjDEG44-t4",
        "outputId": "456917ac-b297-4af0-b093-551402811bb6"
      },
      "execution_count": 12,
      "outputs": [
        {
          "output_type": "stream",
          "name": "stdout",
          "text": [
            "/content/drive/MyDrive/Football-Match-Analysis/football\n",
            "[GoogleDrive] 1k37G4KKscLNqZRa9fHHOEBe47HPhNz0b: Downloading webpage\n",
            "[GoogleDrive] 1k37G4KKscLNqZRa9fHHOEBe47HPhNz0b: Requesting source file\n",
            "[download] Destination: mun_sev_test.mp4\n",
            "\u001b[K[download] 100% of 75.33MiB in 00:00\n"
          ]
        }
      ]
    },
    {
      "cell_type": "markdown",
      "source": [
        "### All necessary modules and libaries"
      ],
      "metadata": {
        "id": "5jSlXeReENGC"
      }
    },
    {
      "cell_type": "code",
      "source": [
        "import sys\n",
        "sys.path.append(f'{HOME}/drive/MyDrive/ByteTrack')\n",
        "sys.path.append(f'{HOME}/drive/MyDrive/Football-Match-Analysis/football')"
      ],
      "metadata": {
        "id": "_yotbAz0OFPc"
      },
      "execution_count": 13,
      "outputs": []
    },
    {
      "cell_type": "code",
      "execution_count": 14,
      "metadata": {
        "id": "CTXgyUJPPmsa"
      },
      "outputs": [],
      "source": [
        "import cv2\n",
        "import matplotlib\n",
        "from analysis.filter import filters\n",
        "from analysis.hsv_classifier import HSVClassifier\n",
        "from analysis.inertia_classifier import InertiaClassifier\n",
        "from analysis.colors import Color\n",
        "from draw.annotate import BaseAnnotator\n",
        "from draw.marker import MarkerAnntator\n",
        "from util.detection import (\n",
        "    Detection,\n",
        "    filter_class,\n",
        "    filter_classification,\n",
        "    true_ball\n",
        ")\n",
        "from util.track import (\n",
        "    BYTETrackerArgs,\n",
        "    detections2boxes,\n",
        "    tracks2boxes,\n",
        "    match_detections_with_tracks\n",
        ")\n",
        "from draw.draw_possession import (\n",
        "    get_possession_background,\n",
        "    draw_possession_counter\n",
        ")\n",
        "from analysis.possession import (\n",
        "    get_player_in_possession,\n",
        "    get_team_in_possession,\n",
        "    inertia_possession\n",
        ")\n",
        "from util.video import Video\n",
        "\n",
        "from yolox.tracker.byte_tracker import BYTETracker"
      ]
    },
    {
      "cell_type": "markdown",
      "source": [
        "### Color for annotate and board possession"
      ],
      "metadata": {
        "id": "ywltMnvGEb2n"
      }
    },
    {
      "cell_type": "code",
      "execution_count": 15,
      "metadata": {
        "id": "tN0ykKJwHgdr"
      },
      "outputs": [],
      "source": [
        "# annotation color\n",
        "# home color\n",
        "HOME_COLOR_HEX = matplotlib.colors.cnames[args.colors_draw[0]]\n",
        "HOME_COLOR = Color.from_hex_string(HOME_COLOR_HEX)\n",
        "\n",
        "# away color\n",
        "AWAY_COLOR_HEX = matplotlib.colors.cnames[args.colors_draw[1]]\n",
        "AWAY_COLOR = Color.from_hex_string(AWAY_COLOR_HEX)\n",
        "\n",
        "# refree color\n",
        "REFEREE_COLOR_HEX = matplotlib.colors.cnames[args.colors_draw[2]]\n",
        "REFEREE_COLOR = Color.from_hex_string(REFEREE_COLOR_HEX)\n",
        "\n",
        "# possession board and text color\n",
        "HOME_BOARD_HEX = matplotlib.colors.cnames['cornflowerblue']\n",
        "args.board_colors[0] = Color.from_hex_string(HOME_BOARD_HEX).bgr_tuple\n",
        "HOME_TEXT_HEX = matplotlib.colors.cnames['white']\n",
        "args.text_colors[0] = Color.from_hex_string(HOME_TEXT_HEX).bgr_tuple\n",
        "AWAY_BOARD_HEX = matplotlib.colors.cnames['royalblue']\n",
        "args.board_colors[1] = Color.from_hex_string(AWAY_BOARD_HEX).bgr_tuple\n",
        "AWAY_TEXT_HEX = matplotlib.colors.cnames['white']\n",
        "args.text_colors[1] = Color.from_hex_string(AWAY_TEXT_HEX).bgr_tuple"
      ]
    },
    {
      "cell_type": "markdown",
      "source": [
        "### Color for marker of ball and closest player"
      ],
      "metadata": {
        "id": "3avJGpQBExU0"
      }
    },
    {
      "cell_type": "code",
      "execution_count": 16,
      "metadata": {
        "id": "1_tur54aHZsn"
      },
      "outputs": [],
      "source": [
        "# marker color\n",
        "MARKER_CONTOUR_COLOR_HEX = \"000000\"\n",
        "MARKER_CONTOUR_COLOR = Color.from_hex_string(MARKER_CONTOUR_COLOR_HEX)\n",
        "\n",
        "# player maker color\n",
        "PLAYER_MARKER_FILL_COLOR_HEX = \"FF0000\"\n",
        "PLAYER_MARKER_FILL_COLOR = Color.from_hex_string(PLAYER_MARKER_FILL_COLOR_HEX)\n",
        "\n",
        "# ball maker color\n",
        "BALL_MERKER_FILL_COLOR_HEX = \"00FF00\"\n",
        "BALL_MARKER_FILL_COLOR = Color.from_hex_string(BALL_MERKER_FILL_COLOR_HEX)\n",
        "\n",
        "# marker parameters\n",
        "MARKER_CONTOUR_THICKNESS = 2\n",
        "MARKER_WIDTH = 15\n",
        "MARKER_HEIGHT = 15\n",
        "MARKER_MARGIN = 7\n",
        "\n",
        "# distance in pixels from the player's bounding box where we consider the ball is in his possession\n",
        "PLAYER_IN_POSSESSION_PROXIMITY = 40"
      ]
    },
    {
      "cell_type": "markdown",
      "source": [
        "### Path for test video and board possession image"
      ],
      "metadata": {
        "id": "gCG_PDnVE2C-"
      }
    },
    {
      "cell_type": "code",
      "execution_count": 17,
      "metadata": {
        "id": "VYV2gkp-HiBY"
      },
      "outputs": [],
      "source": [
        "args.source = f\"{HOME}/drive/MyDrive/Football-Match-Analysis/football/mun_sev_test.mp4\"\n",
        "BOARD_IMG_PATH = f\"{HOME}/drive/MyDrive/Football-Match-Analysis/football/draw/board_possession.png\""
      ]
    },
    {
      "cell_type": "markdown",
      "source": [
        "### Init some setting for running\n",
        "### Include: video, annotators, hsv classifier, ByteTrack and possession per team"
      ],
      "metadata": {
        "id": "CqcVltgkFKY-"
      }
    },
    {
      "cell_type": "code",
      "source": [
        "# initiate video reader and writer\n",
        "video = Video(input_path=args.source)\n",
        "\n",
        "# initiate annotators\n",
        "THICKNESS = 4\n",
        "player_home_annotator = BaseAnnotator(\n",
        "    colors = HOME_COLOR,thickness=THICKNESS)\n",
        "player_away_annotator = BaseAnnotator(\n",
        "    colors = AWAY_COLOR,thickness=THICKNESS)\n",
        "referee_annotator = BaseAnnotator(\n",
        "    colors = REFEREE_COLOR,thickness=THICKNESS)\n",
        "\n",
        "ball_marker_annotator = MarkerAnntator(\n",
        "    color=BALL_MARKER_FILL_COLOR)\n",
        "player_in_possession_marker_annotator = MarkerAnntator(\n",
        "    color=PLAYER_MARKER_FILL_COLOR)\n",
        "\n",
        "# HSV Classifier\n",
        "hsv_filters = filters(args)\n",
        "hsv_classifier = HSVClassifier(filters=hsv_filters)\n",
        "# Add inertia to classifier\n",
        "classifier = InertiaClassifier(classifier=hsv_classifier, inertia=20)\n",
        "possession_background  = get_possession_background(board_img = BOARD_IMG_PATH)\n",
        "# initiate tracker\n",
        "byte_tracker = BYTETracker(BYTETrackerArgs())\n",
        "team_possession = {}"
      ],
      "metadata": {
        "id": "sSP-UmBeDlAO"
      },
      "execution_count": 18,
      "outputs": []
    },
    {
      "cell_type": "markdown",
      "source": [
        "### Now run this cell to start analyzing your football match video"
      ],
      "metadata": {
        "id": "nlMFBSz9Fuzz"
      }
    },
    {
      "cell_type": "code",
      "source": [
        "# loop over frames\n",
        "for index, frame in enumerate(video):\n",
        "\n",
        "    # initiate annotate video frame\n",
        "    annotated_image = frame.copy()\n",
        "\n",
        "    #------------------------------------------------------------RUN DETECTION AND CONVERT TO DETECTION CLASS------------------------------------------------------------#\n",
        "\n",
        "    frame_rgb = frame[...,::-1].copy()\n",
        "    results = model(frame_rgb, size=1280)\n",
        "    detections = Detection.from_numpy(\n",
        "        pred=results.pred[0].cpu().numpy().copy(),\n",
        "        names=model.names)\n",
        "\n",
        "    #------------------------------------------------------------FILTER OF BALL AND PERSON------------------------------------------------------------#\n",
        "\n",
        "    ball_detections = filter_class(detections=detections.copy(), class_id=0)\n",
        "    ball_detection = true_ball(detections=ball_detections.copy(), ball_confidence = args.ball_conf)\n",
        "\n",
        "    tracked_person_detections = filter_class(detections=detections.copy(), class_id=0, reverse=True)\n",
        "\n",
        "    #------------------------------------------------------------TRACKING AND MATCH TO DETECTION------------------------------------------------------------#\n",
        "\n",
        "    if len(tracked_person_detections) != 0:\n",
        "        tracks = byte_tracker.update(\n",
        "                output_results=detections2boxes(detections=tracked_person_detections.copy()),\n",
        "                img_info=frame.shape,\n",
        "                img_size=frame.shape\n",
        "        )\n",
        "        tracked_detections = match_detections_with_tracks(detections=tracked_person_detections.copy(), tracks=tracks.copy())\n",
        "\n",
        "        #------------------------------------------------------------CLASSIFY TWO TEAM AND REFEREE------------------------------------------------------------#\n",
        "\n",
        "        tracked_person_detections_pd = classifier.predict_from_detections(detections=tracked_detections.copy(), img=frame.copy())\n",
        "\n",
        "        tracked_referee_detections = filter_classification(detections = tracked_person_detections_pd.copy(), classification=\"Referee\")\n",
        "        tracked_player_home_detections = filter_classification(detections = tracked_person_detections_pd.copy(), classification = args.teams_name[0])\n",
        "        tracked_player_away_detections = filter_classification(detections = tracked_person_detections_pd.copy(), classification = args.teams_name[1])\n",
        "        player_detections = tracked_player_home_detections + tracked_player_away_detections\n",
        "\n",
        "        #------------------------------------------------------------FIND PLAYER IN POSSESSION OF BALL------------------------------------------------------------#\n",
        "\n",
        "        player_in_possession_detection = get_player_in_possession(\n",
        "                                         player_detections=player_detections.copy(),\n",
        "                                         ball_detections=[ball_detection] if ball_detection else [],\n",
        "                                         proximity=PLAYER_IN_POSSESSION_PROXIMITY)\n",
        "\n",
        "        team_possession = get_team_in_possession(\n",
        "                          team_possession = team_possession.copy(),\n",
        "                          player_possession = player_in_possession_detection,\n",
        "                          args=args)\n",
        "\n",
        "        player_in_possession_detection = inertia_possession(player_possession = player_in_possession_detection, team_possession = team_possession.copy())\n",
        "\n",
        "        #------------------------------------------------------------ANNOTATE ON FRAME------------------------------------------------------------#\n",
        "\n",
        "        annotated_image = player_home_annotator.annotate(\n",
        "          image=annotated_image.copy(),\n",
        "          detections=tracked_player_home_detections.copy())\n",
        "\n",
        "        annotated_image = player_away_annotator.annotate(\n",
        "          image=annotated_image.copy(),\n",
        "          detections=tracked_player_away_detections.copy())\n",
        "\n",
        "        annotated_image = referee_annotator.annotate(\n",
        "          image=annotated_image.copy(),\n",
        "          detections=tracked_referee_detections.copy())\n",
        "\n",
        "        annotated_image = ball_marker_annotator.annotate(\n",
        "          image=annotated_image.copy(),\n",
        "          detections=[ball_detection] if ball_detection else [],\n",
        "          width = MARKER_WIDTH,\n",
        "          height = MARKER_HEIGHT,\n",
        "          margin = MARKER_MARGIN,\n",
        "          thickness = MARKER_CONTOUR_THICKNESS,\n",
        "          color_contour=MARKER_CONTOUR_COLOR)\n",
        "\n",
        "        annotated_image = player_in_possession_marker_annotator.annotate(\n",
        "          image=annotated_image.copy(),\n",
        "          detections=[player_in_possession_detection] if player_in_possession_detection else [],\n",
        "          width = MARKER_WIDTH,\n",
        "          height = MARKER_HEIGHT,\n",
        "          margin = MARKER_MARGIN,\n",
        "          thickness = MARKER_CONTOUR_THICKNESS,\n",
        "          color_contour=MARKER_CONTOUR_COLOR)\n",
        "\n",
        "        if args.possession:\n",
        "           annotated_image = draw_possession_counter(\n",
        "                             team_possession=team_possession.copy(),\n",
        "                             frame=annotated_image.copy(),\n",
        "                             counter_background=possession_background.copy(),\n",
        "                             args=args)\n",
        "\n",
        "    #------------------------------------------------------------SAVE ANNOTATED FRAME------------------------------------------------------------#\n",
        "\n",
        "    video.write(annotated_image.copy())"
      ],
      "metadata": {
        "colab": {
          "base_uri": "https://localhost:8080/",
          "height": 52,
          "referenced_widgets": [
            "beac2cef49b643d39ef6d179455051c3",
            "18a1f4dd2a254ab1ba9be2d039e43159"
          ]
        },
        "id": "gT9u_9dXnYCB",
        "outputId": "3cdcd7c5-c122-4895-bbd4-06d8dd551c88"
      },
      "execution_count": 20,
      "outputs": [
        {
          "output_type": "display_data",
          "data": {
            "text/plain": [
              "Output()"
            ],
            "application/vnd.jupyter.widget-view+json": {
              "version_major": 2,
              "version_minor": 0,
              "model_id": "beac2cef49b643d39ef6d179455051c3"
            }
          },
          "metadata": {}
        },
        {
          "output_type": "display_data",
          "data": {
            "text/plain": [],
            "text/html": [
              "<pre style=\"white-space:pre;overflow-x:auto;line-height:normal;font-family:Menlo,'DejaVu Sans Mono',consolas,'Courier New',monospace\"></pre>\n"
            ]
          },
          "metadata": {}
        },
        {
          "output_type": "display_data",
          "data": {
            "text/plain": [
              "\n"
            ],
            "text/html": [
              "<pre style=\"white-space:pre;overflow-x:auto;line-height:normal;font-family:Menlo,'DejaVu Sans Mono',consolas,'Courier New',monospace\">\n",
              "</pre>\n"
            ]
          },
          "metadata": {}
        },
        {
          "output_type": "display_data",
          "data": {
            "text/plain": [
              "\u001b[37mOutput video file saved to: .\u001b[0m\u001b[37m/\u001b[0m\u001b[37mmun_sev_test_out.mp4\u001b[0m\n"
            ],
            "text/html": [
              "<pre style=\"white-space:pre;overflow-x:auto;line-height:normal;font-family:Menlo,'DejaVu Sans Mono',consolas,'Courier New',monospace\"><span style=\"color: #c0c0c0; text-decoration-color: #c0c0c0\">Output video file saved to: ./mun_sev_test_out.mp4</span>\n",
              "</pre>\n"
            ]
          },
          "metadata": {}
        }
      ]
    },
    {
      "cell_type": "markdown",
      "source": [
        "Output video saved in Football-Match-Analysis/football folder in your drive"
      ],
      "metadata": {
        "id": "9nGLkONc-OhO"
      }
    }
  ],
  "metadata": {
    "colab": {
      "provenance": [],
      "gpuType": "T4"
    },
    "kernelspec": {
      "display_name": "Python 3",
      "name": "python3"
    },
    "language_info": {
      "name": "python"
    },
    "accelerator": "GPU",
    "widgets": {
      "application/vnd.jupyter.widget-state+json": {
        "beac2cef49b643d39ef6d179455051c3": {
          "model_module": "@jupyter-widgets/output",
          "model_name": "OutputModel",
          "model_module_version": "1.0.0",
          "state": {
            "_dom_classes": [],
            "_model_module": "@jupyter-widgets/output",
            "_model_module_version": "1.0.0",
            "_model_name": "OutputModel",
            "_view_count": null,
            "_view_module": "@jupyter-widgets/output",
            "_view_module_version": "1.0.0",
            "_view_name": "OutputView",
            "layout": "IPY_MODEL_18a1f4dd2a254ab1ba9be2d039e43159",
            "msg_id": "",
            "outputs": [
              {
                "output_type": "display_data",
                "data": {
                  "text/plain": "mun_sev_test.mp4 \u001b[38;2;114;156;31m━━━━━━━━━━━━━━━━━━━━━━━━━━━━━━━━━━━━━━━━\u001b[0m \u001b[35m100%\u001b[0m \u001b[36m0:00:00\u001b[0m \u001b[33m3.49fps\u001b[0m\n",
                  "text/html": "<pre style=\"white-space:pre;overflow-x:auto;line-height:normal;font-family:Menlo,'DejaVu Sans Mono',consolas,'Courier New',monospace\">mun_sev_test.mp4 <span style=\"color: #729c1f; text-decoration-color: #729c1f\">━━━━━━━━━━━━━━━━━━━━━━━━━━━━━━━━━━━━━━━━</span> <span style=\"color: #800080; text-decoration-color: #800080\">100%</span> <span style=\"color: #008080; text-decoration-color: #008080\">0:00:00</span> <span style=\"color: #808000; text-decoration-color: #808000\">3.49fps</span>\n</pre>\n"
                },
                "metadata": {}
              }
            ]
          }
        },
        "18a1f4dd2a254ab1ba9be2d039e43159": {
          "model_module": "@jupyter-widgets/base",
          "model_name": "LayoutModel",
          "model_module_version": "1.2.0",
          "state": {
            "_model_module": "@jupyter-widgets/base",
            "_model_module_version": "1.2.0",
            "_model_name": "LayoutModel",
            "_view_count": null,
            "_view_module": "@jupyter-widgets/base",
            "_view_module_version": "1.2.0",
            "_view_name": "LayoutView",
            "align_content": null,
            "align_items": null,
            "align_self": null,
            "border": null,
            "bottom": null,
            "display": null,
            "flex": null,
            "flex_flow": null,
            "grid_area": null,
            "grid_auto_columns": null,
            "grid_auto_flow": null,
            "grid_auto_rows": null,
            "grid_column": null,
            "grid_gap": null,
            "grid_row": null,
            "grid_template_areas": null,
            "grid_template_columns": null,
            "grid_template_rows": null,
            "height": null,
            "justify_content": null,
            "justify_items": null,
            "left": null,
            "margin": null,
            "max_height": null,
            "max_width": null,
            "min_height": null,
            "min_width": null,
            "object_fit": null,
            "object_position": null,
            "order": null,
            "overflow": null,
            "overflow_x": null,
            "overflow_y": null,
            "padding": null,
            "right": null,
            "top": null,
            "visibility": null,
            "width": null
          }
        }
      }
    }
  },
  "nbformat": 4,
  "nbformat_minor": 0
}